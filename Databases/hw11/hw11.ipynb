{
 "cells": [
  {
   "cell_type": "code",
   "execution_count": 1,
   "id": "dbb40a8c-75a7-4eff-8c4c-612bdd7a94de",
   "metadata": {},
   "outputs": [],
   "source": [
    "from pyspark.sql import SparkSession\n",
    "spark = SparkSession \\\n",
    "    .builder \\\n",
    "    .appName(\"Python Spark SQL basic example\") \\\n",
    "    .config(\"spark.some.config.option\", \"some-value\") \\\n",
    "    .getOrCreate()"
   ]
  },
  {
   "cell_type": "code",
   "execution_count": 2,
   "id": "e81c832c-b50c-4483-a5b6-84a2a3d18148",
   "metadata": {},
   "outputs": [],
   "source": [
    "parquetFile = spark.read.parquet(\"C:\\\\Users\\\\aliko\\\\Documents\\\\SET\\\\SET_ML-Cloud\\\\Databases\\\\hw11\\\\fhv_tripdata_2024-09.parquet\")"
   ]
  },
  {
   "cell_type": "code",
   "execution_count": 3,
   "id": "c35cdb49-0347-4787-9f05-82021da66d4a",
   "metadata": {},
   "outputs": [
    {
     "name": "stdout",
     "output_type": "stream",
     "text": [
      "+--------------------+-------------------+-------------------+------------+------------+-------+----------------------+\n",
      "|dispatching_base_num|    pickup_datetime|   dropOff_datetime|PUlocationID|DOlocationID|SR_Flag|Affiliated_base_number|\n",
      "+--------------------+-------------------+-------------------+------------+------------+-------+----------------------+\n",
      "|              B00014|2024-09-01 00:10:00|2024-09-01 01:31:00|        null|        null|   null|                B00014|\n",
      "|              B00112|2024-09-01 00:50:52|2024-09-01 00:50:59|        null|         210|   null|                B00112|\n",
      "|              B00112|2024-09-01 00:26:33|2024-09-01 00:52:31|        null|          14|   null|                B00112|\n",
      "|              B00112|2024-09-01 00:59:52|2024-09-01 01:06:07|        null|          14|   null|                B00112|\n",
      "|              B00225|2024-09-01 00:53:25|2024-09-01 00:58:40|        null|           4|   null|                B03404|\n",
      "|              B00225|2024-09-01 00:40:29|2024-09-01 00:48:55|        null|          77|   null|                B03404|\n",
      "|              B00225|2024-09-01 00:56:25|2024-09-01 01:08:30|        null|          76|   null|                B03404|\n",
      "|              B00225|2024-09-01 00:47:40|2024-09-01 01:33:53|        null|         120|   null|                B03404|\n",
      "|              B00225|2024-09-01 00:16:48|2024-09-01 00:18:31|        null|          79|   null|                B00225|\n",
      "|              B00225|2024-09-01 00:34:59|2024-09-01 01:03:05|        null|         159|   null|                B00225|\n",
      "|              B00254|2024-09-01 00:10:35|2024-09-01 00:35:57|         163|         254|   null|                B00254|\n",
      "|              B00256|2024-09-01 00:07:29|2024-09-01 00:39:53|        null|        null|   null|                B00256|\n",
      "|              B00256|2024-09-01 00:07:07|2024-09-01 00:35:07|        null|        null|   null|                B00256|\n",
      "|              B00256|2024-09-01 00:05:31|2024-09-01 00:46:52|        null|        null|   null|                B00256|\n",
      "|              B00256|2024-09-01 00:18:22|2024-09-01 01:28:38|        null|        null|   null|                B00256|\n",
      "|              B00271|2024-09-01 00:38:32|2024-09-01 00:40:22|        null|         164|   null|                B00271|\n",
      "|              B00271|2024-09-01 00:54:49|2024-09-01 01:13:09|        null|         233|   null|                B00271|\n",
      "|              B00280|2024-09-01 00:31:00|2024-09-01 01:41:00|        null|        null|   null|                B00280|\n",
      "|              B00280|2024-09-01 00:26:00|2024-09-01 01:29:00|        null|        null|   null|                B00280|\n",
      "|              B00280|2024-09-01 00:32:00|2024-09-01 01:34:00|        null|        null|   null|                B00280|\n",
      "+--------------------+-------------------+-------------------+------------+------------+-------+----------------------+\n",
      "only showing top 20 rows\n",
      "\n"
     ]
    }
   ],
   "source": [
    "parquetFile.show()"
   ]
  },
  {
   "cell_type": "code",
   "execution_count": 5,
   "id": "89d1af1c-55eb-4d2c-b0a6-0ce6afe7c391",
   "metadata": {},
   "outputs": [
    {
     "name": "stdout",
     "output_type": "stream",
     "text": [
      "root\n",
      " |-- dispatching_base_num: string (nullable = true)\n",
      " |-- pickup_datetime: timestamp_ntz (nullable = true)\n",
      " |-- dropOff_datetime: timestamp_ntz (nullable = true)\n",
      " |-- PUlocationID: long (nullable = true)\n",
      " |-- DOlocationID: long (nullable = true)\n",
      " |-- SR_Flag: long (nullable = true)\n",
      " |-- Affiliated_base_number: string (nullable = true)\n",
      "\n"
     ]
    }
   ],
   "source": [
    "parquetFile.printSchema()"
   ]
  },
  {
   "cell_type": "code",
   "execution_count": 7,
   "id": "6146c21a-48ba-47e6-9b9e-22985416efb5",
   "metadata": {},
   "outputs": [],
   "source": [
    "parquetFile.coalesce(1).write.csv(\"C:\\\\Users\\\\aliko\\\\Documents\\\\SET\\\\SET_ML-Cloud\\\\Databases\\\\hw11\\\\fhv_tripdata_2024-09.csv\", header = True, mode = \"overwrite\")\n"
   ]
  },
  {
   "cell_type": "code",
   "execution_count": null,
   "id": "ed62be5f-738e-49e0-bb45-daef186bbad6",
   "metadata": {},
   "outputs": [],
   "source": []
  }
 ],
 "metadata": {
  "kernelspec": {
   "display_name": "Python 3 (ipykernel)",
   "language": "python",
   "name": "python3"
  },
  "language_info": {
   "codemirror_mode": {
    "name": "ipython",
    "version": 3
   },
   "file_extension": ".py",
   "mimetype": "text/x-python",
   "name": "python",
   "nbconvert_exporter": "python",
   "pygments_lexer": "ipython3",
   "version": "3.8.20"
  }
 },
 "nbformat": 4,
 "nbformat_minor": 5
}
