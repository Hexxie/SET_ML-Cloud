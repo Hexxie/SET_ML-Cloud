{
  "nbformat": 4,
  "nbformat_minor": 0,
  "metadata": {
    "colab": {
      "provenance": []
    },
    "kernelspec": {
      "name": "python3",
      "display_name": "Python 3"
    },
    "language_info": {
      "name": "python"
    }
  },
  "cells": [
    {
      "cell_type": "markdown",
      "source": [
        "1. Create a Book class with attributes title, author, and pages. Include a method get_summary() that returns a summary of the book details."
      ],
      "metadata": {
        "id": "CXJxTtZfigxT"
      }
    },
    {
      "cell_type": "code",
      "source": [
        "class Book:\n",
        "  def __init__(self, title, author, pages):\n",
        "    self.title = title\n",
        "    self.author = author\n",
        "    self.pages = pages\n",
        "\n",
        "  def get_summary(self):\n",
        "    return f'Title: {self.title}, Author: {self.author}, Pages: {self.pages}'\n",
        "\n"
      ],
      "metadata": {
        "id": "juUu8n90ilUV"
      },
      "execution_count": null,
      "outputs": []
    },
    {
      "cell_type": "code",
      "source": [
        "book = Book('Dive Into Python', 'Mark Piligrim', 123)\n",
        "assert book.get_summary() == 'Title: Dive Into Python, Author: Mark Piligrim, Pages: 123'"
      ],
      "metadata": {
        "id": "6lwO9idXiuyP"
      },
      "execution_count": null,
      "outputs": []
    },
    {
      "cell_type": "markdown",
      "source": [
        "2. Extend the Book class by adding __str__, __eq__, and __len__ magic methods."
      ],
      "metadata": {
        "id": "DFBLeCGkknLI"
      }
    },
    {
      "cell_type": "code",
      "source": [
        "class Book:\n",
        "  def __init__(self, title, author, pages):\n",
        "    self.title = title\n",
        "    self.author = author\n",
        "    self.pages = pages\n",
        "\n",
        "  def get_summary(self):\n",
        "    return f'Title: {self.title}, Author: {self.author}, Pages: {self.pages}'\n",
        "\n",
        "  def __str__(self):\n",
        "    return self.get_summary()\n",
        "\n",
        "  def __eq__(self, other):\n",
        "    if isinstance(other, Book):\n",
        "      return self.title == other.title and self.author == other.author\n",
        "    return False\n",
        "\n",
        "  def __len__(self):\n",
        "    return self.pages"
      ],
      "metadata": {
        "id": "R_TzXc3lkpqj"
      },
      "execution_count": null,
      "outputs": []
    },
    {
      "cell_type": "code",
      "source": [
        "book1 = Book('Dive Into Python', 'Mark Pilgrim', 123)\n",
        "book2 = Book('Python Crash Course', 'Eric Matthes', 321)\n",
        "book3 = Book('Dive Into Python', 'Mark Pilgrim', 123)\n",
        "assert str(book1) == 'Title: Dive Into Python, Author: Mark Pilgrim, Pages: 123'\n",
        "assert book1 != book2\n",
        "assert book1 != object()\n",
        "assert book1 == book3\n",
        "assert len(book1) == 123"
      ],
      "metadata": {
        "id": "asw6yDVVkrQQ"
      },
      "execution_count": null,
      "outputs": []
    },
    {
      "cell_type": "markdown",
      "source": [
        "3. Add a from_string class method, that allows creating a Book instance from a string formatted as \"Title - Author - Pages\"."
      ],
      "metadata": {
        "id": "t7SsjHHTl-_a"
      }
    },
    {
      "cell_type": "code",
      "source": [
        "class Book:\n",
        "  def __init__(self, title, author, pages):\n",
        "    self.title = title\n",
        "    self.author = author\n",
        "    self.pages = pages\n",
        "\n",
        "  @staticmethod\n",
        "  def from_string(str):\n",
        "    # no need to handle error here\n",
        "    # it's better to crash and notify that\n",
        "    # object was not created\n",
        "    title, author, pages = str.split(\" - \")\n",
        "    return Book(title, author, int(pages))\n",
        "\n",
        "  def get_summary(self):\n",
        "    return f'Title: {self.title}, Author: {self.author}, Pages: {self.pages}'\n",
        "\n",
        "  def __str__(self):\n",
        "    return self.get_summary()\n",
        "\n",
        "  def __eq__(self, other):\n",
        "    if isinstance(other, Book):\n",
        "      return self.title == other.title and self.author == other.author and self.pages == other.pages\n",
        "    return False\n",
        "\n",
        "  def __len__(self):\n",
        "    return self.pages"
      ],
      "metadata": {
        "id": "HOGu8uvDmEZV"
      },
      "execution_count": null,
      "outputs": []
    },
    {
      "cell_type": "code",
      "source": [
        "book = Book.from_string('Dive Into Python - Mark Pilgrim - 123')\n",
        "assert book.title == 'Dive Into Python'\n",
        "assert book.author == 'Mark Pilgrim'\n",
        "assert book.pages == 123"
      ],
      "metadata": {
        "id": "iHpYfzSzmM9_"
      },
      "execution_count": null,
      "outputs": []
    },
    {
      "cell_type": "markdown",
      "source": [
        "4. Add add_review method that takes a value between 0 and 5 (otherwise ValueError is raised) and saves to some private variable. Add read-only property rating that returns average rating from the list of reviews."
      ],
      "metadata": {
        "id": "5xO_oPeAn8al"
      }
    },
    {
      "cell_type": "code",
      "source": [
        "class Book:\n",
        "  def __init__(self, title, author, pages):\n",
        "    self.title = title\n",
        "    self.author = author\n",
        "    self.pages = pages\n",
        "\n",
        "    self.__rating = []\n",
        "\n",
        "  @staticmethod\n",
        "  def from_string(str):\n",
        "    title, author, pages = str.split(\" - \")\n",
        "    return Book(title, author, int(pages))\n",
        "\n",
        "  @property\n",
        "  def rating(self):\n",
        "    return sum(self.__rating) / len(self.__rating)\n",
        "\n",
        "  def get_summary(self):\n",
        "    return f'Title: {self.title}, Author: {self.author}, Pages: {self.pages}'\n",
        "\n",
        "  def add_review(self, rating):\n",
        "    if rating in range(0, 6):\n",
        "      self.__rating.append(rating)\n",
        "    else:\n",
        "      raise ValueError(\"add_review method that takes a value between 0 and 5\")\n",
        "\n",
        "\n",
        "  def __str__(self):\n",
        "    return self.get_summary()\n",
        "\n",
        "  def __eq__(self, other):\n",
        "    if isinstance(other, Book):\n",
        "      return self.title == other.title and self.author == other.author and self.pages == other.pages\n",
        "    return False\n",
        "\n",
        "  def __len__(self):\n",
        "    return self.pages"
      ],
      "metadata": {
        "id": "iswwbpJ7oSx2"
      },
      "execution_count": null,
      "outputs": []
    },
    {
      "cell_type": "code",
      "source": [
        "book = Book('Dive Into Python', 'Mark Pilgrim', 123)\n",
        "book.add_review(3)\n",
        "assert book.rating == 3\n",
        "book.add_review(5)\n",
        "assert book.rating == 4\n",
        "book.add_review(0)\n",
        "\n",
        "try:\n",
        "  book.add_review(-1)  # Error\n",
        "except ValueError as e:\n",
        "  print(f'book.add_review(-1): {e}')\n",
        "\n",
        "try:\n",
        "  book.add_review(6)  # Error\n",
        "except ValueError as e:\n",
        "  print(f'book.add_review(6): {e}')"
      ],
      "metadata": {
        "colab": {
          "base_uri": "https://localhost:8080/"
        },
        "id": "wh4hR47WoVyi",
        "outputId": "df274dfd-7de5-484e-ea67-2b1d63531232"
      },
      "execution_count": null,
      "outputs": [
        {
          "output_type": "stream",
          "name": "stdout",
          "text": [
            "book.add_review(-1): add_review method that takes a value between 0 and 5\n",
            "book.add_review(6): add_review method that takes a value between 0 and 5\n"
          ]
        }
      ]
    },
    {
      "cell_type": "markdown",
      "source": [
        "5. Create a Comic class that inherits from Book but overrides get_summary method. Make sure original get_summary is used"
      ],
      "metadata": {
        "id": "mYKo_It6qh9Y"
      }
    },
    {
      "cell_type": "code",
      "source": [
        "class Comic(Book):\n",
        "  def __init__(self, title, author, pages):\n",
        "    super().__init__(title, author, pages)\n",
        "\n",
        "  def get_summary(self):\n",
        "    return f'Genre: Comic, {super().get_summary()}'\n",
        "\n",
        "\n"
      ],
      "metadata": {
        "id": "f_6RxIbUqlut"
      },
      "execution_count": null,
      "outputs": []
    },
    {
      "cell_type": "code",
      "source": [
        "comic = Comic('Batman', 'Jeph Loeb', 50)\n",
        "comic.get_summary()\n",
        "assert comic.get_summary() == 'Genre: Comic, Title: Batman, Author: Jeph Loeb, Pages: 50'"
      ],
      "metadata": {
        "id": "4txBqVZqqqke"
      },
      "execution_count": null,
      "outputs": []
    }
  ]
}