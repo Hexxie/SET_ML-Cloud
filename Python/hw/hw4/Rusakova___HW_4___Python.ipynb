{
  "nbformat": 4,
  "nbformat_minor": 0,
  "metadata": {
    "colab": {
      "provenance": []
    },
    "kernelspec": {
      "name": "python3",
      "display_name": "Python 3"
    },
    "language_info": {
      "name": "python"
    }
  },
  "cells": [
    {
      "cell_type": "code",
      "source": [
        "!wget --output-document \"./homework.txt\" \"https://raw.githubusercontent.com/dscape/spell/refs/heads/master/test/resources/big.txt\"\n",
        "!ls -l"
      ],
      "metadata": {
        "colab": {
          "base_uri": "https://localhost:8080/"
        },
        "id": "4G9tQF1fSKtK",
        "outputId": "fa991eed-1a76-4a62-da4d-76ee36fbd1d4"
      },
      "execution_count": null,
      "outputs": [
        {
          "output_type": "stream",
          "name": "stdout",
          "text": [
            "--2024-11-27 20:19:52--  https://raw.githubusercontent.com/dscape/spell/refs/heads/master/test/resources/big.txt\n",
            "Resolving raw.githubusercontent.com (raw.githubusercontent.com)... 185.199.108.133, 185.199.109.133, 185.199.110.133, ...\n",
            "Connecting to raw.githubusercontent.com (raw.githubusercontent.com)|185.199.108.133|:443... connected.\n",
            "HTTP request sent, awaiting response... 200 OK\n",
            "Length: 6488666 (6.2M) [text/plain]\n",
            "Saving to: ‘./homework.txt’\n",
            "\n",
            "./homework.txt      100%[===================>]   6.19M  --.-KB/s    in 0.04s   \n",
            "\n",
            "2024-11-27 20:19:52 (153 MB/s) - ‘./homework.txt’ saved [6488666/6488666]\n",
            "\n",
            "total 6344\n",
            "-rw-r--r-- 1 root root 6488666 Nov 27 20:19 homework.txt\n",
            "drwxr-xr-x 1 root root    4096 Nov 25 19:13 sample_data\n"
          ]
        }
      ]
    },
    {
      "cell_type": "markdown",
      "source": [
        "# Assignment 1\n",
        "\n",
        "Implement `count_lines(world, filename)` function. This function counts number of rows in `filename` file that contain `world` substring\n",
        "\n",
        "Note:\n",
        "1. You may use command/file from the previous sell to download file\n",
        "2. Implement it without storing whole file in memory (iterate line by line)"
      ],
      "metadata": {
        "id": "0h17u3ReifCS"
      }
    },
    {
      "cell_type": "code",
      "source": [
        "def count_lines(line, file):\n",
        "  with open(file, 'r') as f:\n",
        "    return sum(1 for string in iter(f.readline, '') if line.lower() in string.lower())"
      ],
      "metadata": {
        "id": "F2lLeFY_iPEe"
      },
      "execution_count": null,
      "outputs": []
    },
    {
      "cell_type": "code",
      "source": [
        "assert count_lines('nothinglikethat', 'homework.txt') == 0\n",
        "assert count_lines('hello', 'homework.txt') == 1\n",
        "assert count_lines('Sherlock', 'homework.txt') == 100"
      ],
      "metadata": {
        "id": "yeCC46D3iSBO"
      },
      "execution_count": null,
      "outputs": []
    },
    {
      "cell_type": "markdown",
      "source": [
        "# Assignment 2\n",
        "\n",
        "Implement `flatten` function. This function takes `list` object and flattens in case there are iterables inside.\n",
        "Tests:\n",
        "```\n",
        "assert list(flatten([1, 2])) == [1, 2]  # nothing to flatten\n",
        "assert list(flatten([1, '2'])) == [1, '2']  # str is an exception\n",
        "assert list(flatten([1, '2', '34'])) == [1, '2', '34']\n",
        "assert list(flatten([1, '2', '34', [5, 6]])) == [1, '2', '34', 5, 6]  # handling list with 2 items inside\n",
        "assert list(flatten([1, '2', '34', [5, 6], [7]])) == [1, '2', '34', 5, 6, 7]  # list with 1 item inside\n",
        "```\n",
        "\n",
        "Note:\n",
        "1. it should be generator function\n",
        "2. It should handle `str` correctly\n",
        "3. In this assignemnt you don't need to handle more than one level\n",
        "4. In this homework it's not needed to handle cases with more than 1 level of nesting, but those who wanna practice more may try handle it as well.\n",
        "```\n",
        "assert list(flatten([1, '2', '34', [5, 6], [7, [[8]])) == [1, '2', '34', 5, 6, 7, 8]\n",
        "```"
      ],
      "metadata": {
        "id": "8Alu8RzPaU5w"
      }
    },
    {
      "cell_type": "code",
      "source": [
        "def flatten(iterable):\n",
        "  for item in iterable:\n",
        "    if isinstance(item, list):\n",
        "      for inner_item in item:\n",
        "       # print(f\"count: {inner_item}\")\n",
        "        yield inner_item\n",
        "    else:\n",
        "     # print(f\"count: {item}\")\n",
        "      yield item"
      ],
      "metadata": {
        "id": "xwnxyb57vrdK"
      },
      "execution_count": null,
      "outputs": []
    },
    {
      "cell_type": "code",
      "source": [
        "assert list(flatten([1, 2])) == [1, 2]  # nothing to flatten\n",
        "assert list(flatten([1, '2'])) == [1, '2']  # str is an exception\n",
        "assert list(flatten([1, '2', '34'])) == [1, '2', '34']\n",
        "assert list(flatten([1, '2', '34', [5, 6]])) == [1, '2', '34', 5, 6]  # handling list with 2 items inside\n",
        "assert list(flatten([1, '2', '34', [5, 6], [7]])) == [1, '2', '34', 5, 6, 7]  # list with 1 item inside"
      ],
      "metadata": {
        "id": "WjHLoEXYagCH",
        "colab": {
          "base_uri": "https://localhost:8080/"
        },
        "outputId": "f8da2a94-7763-4779-8dd0-0e758930f0a9"
      },
      "execution_count": null,
      "outputs": [
        {
          "output_type": "stream",
          "name": "stdout",
          "text": [
            "count: 1\n",
            "count: 2\n",
            "count: 1\n",
            "count: 2\n",
            "count: 1\n",
            "count: 2\n",
            "count: 34\n",
            "count: 1\n",
            "count: 2\n",
            "count: 34\n",
            "count: 5\n",
            "count: 6\n",
            "count: 1\n",
            "count: 2\n",
            "count: 34\n",
            "count: 5\n",
            "count: 6\n",
            "count: 7\n"
          ]
        }
      ]
    }
  ]
}